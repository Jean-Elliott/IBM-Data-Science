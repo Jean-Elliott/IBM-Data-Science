{
 "cells": [
  {
   "cell_type": "markdown",
   "id": "af2ab4d9-7451-44f9-a0fa-efe6a74de004",
   "metadata": {},
   "source": [
    "# Data Science Tools and Ecosystem"
   ]
  },
  {
   "cell_type": "markdown",
   "id": "e1351c70-726d-4b2d-948c-387f9f9d3537",
   "metadata": {},
   "source": [
    "In this notebook, Data Science Tools and Ecosystem are summarized.\n"
   ]
  },
  {
   "cell_type": "markdown",
   "id": "54e8e008-5633-4835-a0d2-9dae8f606f78",
   "metadata": {},
   "source": [
    "Some of the popular languages that Data Scientists use are:\n",
    "1. Python\n",
    "2. R\n",
    "3. Scala\n"
   ]
  },
  {
   "cell_type": "markdown",
   "id": "6fa4f9da-1782-4c91-ac93-11266aadbb46",
   "metadata": {},
   "source": [
    "Some of the commonly used libraries used by Data Scientists include:\n",
    "\n",
    "1. Pandas\n",
    "2. Numpy\n",
    "3. Keras"
   ]
  },
  {
   "cell_type": "markdown",
   "id": "aa791470-75ad-4e2b-ade6-726cbc58d201",
   "metadata": {},
   "source": [
    "|Data Science Tools|\n",
    "|---|\n",
    "|JupyterLab|\n",
    "|R-Studio|\n",
    "|Visual Studio Code|\n"
   ]
  },
  {
   "cell_type": "markdown",
   "id": "303a2ba1-ca9a-4e75-a6c7-60cc171ed707",
   "metadata": {
    "tags": []
   },
   "source": [
    "### Below are a few examples of evaluating arithmetic expressions in Python\n"
   ]
  },
  {
   "cell_type": "code",
   "execution_count": 12,
   "id": "683e6e71-198d-4341-a952-a1759e3f286c",
   "metadata": {
    "tags": []
   },
   "outputs": [
    {
     "data": {
      "text/plain": [
       "17"
      ]
     },
     "execution_count": 12,
     "metadata": {},
     "output_type": "execute_result"
    }
   ],
   "source": [
    "# This a simple arithmetic expression to mutiply then add integers.\n",
    "(3*4)+5"
   ]
  },
  {
   "cell_type": "code",
   "execution_count": 14,
   "id": "49300d94-e897-4c43-81d3-defcfc686461",
   "metadata": {
    "tags": []
   },
   "outputs": [
    {
     "name": "stdout",
     "output_type": "stream",
     "text": [
      "3.3333333333333335\n"
     ]
    }
   ],
   "source": [
    "# This will convert 200 minutes to hours by diving by 60.\n",
    "\n",
    "minutes = 200\n",
    "hours = minutes / 60\n",
    "print(hours)"
   ]
  },
  {
   "cell_type": "markdown",
   "id": "bc59190d-e37c-4695-9ea9-7b670f1a0b26",
   "metadata": {},
   "source": [
    "**Objectives:**\n",
    "- List popular languages for Data Science\n",
    "- List commonly usedl ibraries for Data Science\n",
    "- Use code cells for arithmetic expressions\n",
    "- Use markdown cells for text "
   ]
  },
  {
   "cell_type": "markdown",
   "id": "0adecbf4-746d-4ec4-bf43-2d6fac4c0b09",
   "metadata": {},
   "source": [
    "## Author\n",
    "Jean Elliott"
   ]
  },
  {
   "cell_type": "code",
   "execution_count": null,
   "id": "dfebca5e-c36a-4934-a3bc-4d3484d67dc4",
   "metadata": {},
   "outputs": [],
   "source": []
  }
 ],
 "metadata": {
  "kernelspec": {
   "display_name": "Python 3 (ipykernel)",
   "language": "python",
   "name": "python3"
  },
  "language_info": {
   "codemirror_mode": {
    "name": "ipython",
    "version": 3
   },
   "file_extension": ".py",
   "mimetype": "text/x-python",
   "name": "python",
   "nbconvert_exporter": "python",
   "pygments_lexer": "ipython3",
   "version": "3.11.7"
  }
 },
 "nbformat": 4,
 "nbformat_minor": 5
}
